{
 "cells": [
  {
   "cell_type": "code",
   "execution_count": 6,
   "metadata": {},
   "outputs": [
    {
     "name": "stdout",
     "output_type": "stream",
     "text": [
      "auth success \n"
     ]
    }
   ],
   "source": [
    "from jqdatasdk import *\n",
    "auth('15051871508','871508')"
   ]
  },
  {
   "cell_type": "code",
   "execution_count": 2,
   "metadata": {},
   "outputs": [],
   "source": [
    "import numpy as np\n",
    "import pandas as pd"
   ]
  },
  {
   "cell_type": "code",
   "execution_count": 73,
   "metadata": {},
   "outputs": [],
   "source": [
    "index_df = get_bars('000300.XSHG',57,unit='1d',fields=['date','close'],end_dt = '2019-3-30')"
   ]
  },
  {
   "cell_type": "code",
   "execution_count": 120,
   "metadata": {},
   "outputs": [],
   "source": [
    "# test = df_daily_close.index[1:]\n",
    "# for i in range(57):\n",
    "#     print(test[i])\n",
    "#     print(index_df['date'][i])\n",
    "dates = index_df['date'].drop(13)\n",
    "dates = dates.reset_index(drop=True)"
   ]
  },
  {
   "cell_type": "code",
   "execution_count": 87,
   "metadata": {},
   "outputs": [
    {
     "data": {
      "text/plain": [
       "57"
      ]
     },
     "execution_count": 87,
     "metadata": {},
     "output_type": "execute_result"
    }
   ],
   "source": [
    "len(index_df['date'])"
   ]
  },
  {
   "cell_type": "code",
   "execution_count": 21,
   "metadata": {},
   "outputs": [],
   "source": [
    "df_big_buy = pd.read_csv('buysell_bigsell.csv')\n",
    "df_big_buy.set_index(['time'],inplace=True)"
   ]
  },
  {
   "cell_type": "code",
   "execution_count": 30,
   "metadata": {},
   "outputs": [],
   "source": [
    "df_big_sell = pd.read_csv('buysell_bigbuy.csv')\n",
    "df_big_sell.set_index(['time'],inplace=True)"
   ]
  },
  {
   "cell_type": "code",
   "execution_count": 34,
   "metadata": {},
   "outputs": [],
   "source": [
    "df_daily_close = pd.read_csv('day_close.csv')\n",
    "df_daily_close.set_index(['time'],inplace=True)"
   ]
  },
  {
   "cell_type": "code",
   "execution_count": 144,
   "metadata": {},
   "outputs": [],
   "source": [
    "df_daily_open = pd.read_csv('day_open.csv')\n",
    "df_daily_open.set_index(['time'],inplace=True)"
   ]
  },
  {
   "cell_type": "code",
   "execution_count": 22,
   "metadata": {},
   "outputs": [],
   "source": [
    "list_of_stocks = list(get_all_securities(types=['stock'], date='2019-02-02').index)"
   ]
  },
  {
   "cell_type": "code",
   "execution_count": 23,
   "metadata": {},
   "outputs": [],
   "source": [
    "list_of_stocks_drop_latter_str = [stock_name[:-5] for stock_name in list_of_stocks]"
   ]
  },
  {
   "cell_type": "code",
   "execution_count": 24,
   "metadata": {},
   "outputs": [],
   "source": [
    "stock_list_after_data_cleaning =list(set(df_big_buy.columns) & set(list_of_stocks_drop_latter_str))"
   ]
  },
  {
   "cell_type": "code",
   "execution_count": 26,
   "metadata": {},
   "outputs": [],
   "source": [
    "df_big_buy_after_data_cleaning = df_big_buy.loc[:,stock_list_after_data_cleaning]"
   ]
  },
  {
   "cell_type": "code",
   "execution_count": 31,
   "metadata": {},
   "outputs": [],
   "source": [
    "df_big_sell_after_data_cleaning = df_big_sell.loc[:,stock_list_after_data_cleaning]"
   ]
  },
  {
   "cell_type": "code",
   "execution_count": 147,
   "metadata": {},
   "outputs": [],
   "source": [
    "df_daily_close_after_data_cleaning = df_daily_close.loc[:,stock_list_after_data_cleaning]\n",
    "df_daily_open_after_data_cleaning = df_daily_open.loc[:,stock_list_after_data_cleaning]"
   ]
  },
  {
   "cell_type": "code",
   "execution_count": 187,
   "metadata": {},
   "outputs": [],
   "source": [
    "df_daily_close_minus_open_return_after_data_cleaning=(df_daily_close_after_data_cleaning-df_daily_open_after_data_cleaning)/df_daily_open_after_data_cleaning"
   ]
  },
  {
   "cell_type": "code",
   "execution_count": 38,
   "metadata": {},
   "outputs": [],
   "source": [
    "df_daily_return_after_data_cleaning=df_daily_close_after_data_cleaning.apply(lambda x: x.pct_change())"
   ]
  },
  {
   "cell_type": "code",
   "execution_count": 214,
   "metadata": {},
   "outputs": [],
   "source": [
    "factor_big_buy_ratio = df_big_buy_after_data_cleaning\n",
    "factor_big_sell_ratio = df_big_sell_after_data_cleaning\n",
    "factor_big_buy_minus_big_sell = df_big_buy_ratio-df_big_sell_ratio\n",
    "factor_big_order_ratio = df_big_buy_ratio+df_big_sell_ratio"
   ]
  },
  {
   "cell_type": "code",
   "execution_count": 131,
   "metadata": {},
   "outputs": [
    {
     "data": {
      "text/plain": [
       "Index(['600423', '600518', '600027', '600098', '600088', '601999', '600083',\n",
       "       '600731', '600790', '600565',\n",
       "       ...\n",
       "       '600030', '603700', '601298', '600774', '603332', '603739', '603121',\n",
       "       '601615', '601975', '601598'],\n",
       "      dtype='object', length=1449)"
      ]
     },
     "execution_count": 131,
     "metadata": {},
     "output_type": "execute_result"
    }
   ],
   "source": [
    "df_big_sell_after_data_cleaning.iloc[1,:].sort_values(ascending = False).index"
   ]
  },
  {
   "cell_type": "code",
   "execution_count": 406,
   "metadata": {},
   "outputs": [
    {
     "name": "stdout",
     "output_type": "stream",
     "text": [
      "跳\n"
     ]
    }
   ],
   "source": [
    "strategy_daily_yeild_list = []\n",
    "for date_index,value in factor_big_buy_minus_big_sell.iterrows():\n",
    "    if date_index == df_big_buy_minus_big_sell.index[0]:\n",
    "        print('跳')\n",
    "    else:\n",
    "        max_factor_stock_list = max_factor_stock_list[:10]\n",
    "        strategy_daily_yeild_list.append((df_daily_return_after_data_cleaning.loc[date_index,max_factor_stock_list].mean())*(1-0.001))\n",
    "#         print(date_index)\n",
    "#         print(max_factor_stock_list)\n",
    "    max_factor_stock_list = list(value.sort_values(ascending = False)[:20].index)\n",
    "    \n",
    "    ##删除涨停股    \n",
    "    stock_list = []\n",
    "    \n",
    "    for stock in max_factor_stock_list:\n",
    "        if not df_daily_close_after_data_cleaning.loc[date_index,stock]== df_daily_open_after_data_cleaning.loc[date_index,stock]:\n",
    "            stock_list.append(stock)\n",
    "#             print(date_index,stock,'涨停,无法买入')\n",
    "    \n",
    "    max_factor_stock_list = stock_list\n",
    "    \n",
    "    ####删除涨停股票\n",
    "        \n",
    "    \n",
    "#     strategy_daily_yeild_list.append((df_daily_return_after_data_cleaning.loc[date_index,max_factor_stock_list].mean())*(1-0.1))\n",
    "    "
   ]
  },
  {
   "cell_type": "code",
   "execution_count": 481,
   "metadata": {},
   "outputs": [
    {
     "name": "stdout",
     "output_type": "stream",
     "text": [
      "跳\n"
     ]
    }
   ],
   "source": [
    "strategy_daily_yeild_list = []\n",
    "for date_index,value in factor_big_buy_ratio.iterrows():\n",
    "    if date_index == df_big_buy_minus_big_sell.index[0]:\n",
    "        print('跳')\n",
    "    else:\n",
    "            ##删除涨停股    \n",
    "        stock_list = []\n",
    "\n",
    "        for stock in max_factor_stock_list:\n",
    "            if not df_daily_close_after_data_cleaning.loc[date_index,stock]== df_daily_open_after_data_cleaning.loc[date_index,stock]:\n",
    "                stock_list.append(stock)\n",
    "    #             print(date_index,stock,'涨停,无法买入')\n",
    "\n",
    "        max_factor_stock_list = stock_list\n",
    "    \n",
    "    ####删除涨停股票\n",
    "        max_factor_stock_list = max_factor_stock_list[:10]\n",
    "        strategy_daily_yeild_list.append((df_daily_close_minus_open_return_after_data_cleaning.loc[date_index,max_factor_stock_list].mean())*(1-0.001))\n",
    "#         print(date_index)\n",
    "#         print(max_factor_stock_list)\n",
    "    max_factor_stock_list = list(value.sort_values(ascending = False)[:20].index)\n",
    "    \n",
    "\n",
    "        \n",
    "    \n",
    "#     strategy_daily_yeild_list.append((df_daily_return_after_data_cleaning.loc[date_index,max_factor_stock_list].mean())*(1-0.1))\n",
    "    "
   ]
  },
  {
   "cell_type": "code",
   "execution_count": 466,
   "metadata": {},
   "outputs": [
    {
     "data": {
      "text/plain": [
       "True"
      ]
     },
     "execution_count": 466,
     "metadata": {},
     "output_type": "execute_result"
    }
   ],
   "source": [
    "np.isnan(df_daily_close_after_data_cleaning.loc[20190114,'603739'])\n"
   ]
  },
  {
   "cell_type": "code",
   "execution_count": 484,
   "metadata": {},
   "outputs": [
    {
     "name": "stdout",
     "output_type": "stream",
     "text": [
      "跳\n"
     ]
    }
   ],
   "source": [
    "import math\n",
    "strategy_daily_yeild_list = []\n",
    "classification_return_1 = []\n",
    "classification_return_2 = []\n",
    "classification_return_3 = []\n",
    "classification_return_4 = []\n",
    "classification_return_5 = []\n",
    "classification_return_6 = []\n",
    "classification_return_7 = []\n",
    "classification_return_8 = []\n",
    "classification_return_9 = []\n",
    "classification_return_10 = []\n",
    "classification_return_index = [classification_return_1,classification_return_2,classification_return_3,classification_return_4,classification_return_5,classification_return_6,classification_return_7,classification_return_8,classification_return_9,classification_return_10]\n",
    "\n",
    "for date_index,value in factor_big_buy_minus_big_sell.iterrows():\n",
    "    if date_index == df_big_buy_minus_big_sell.index[0]:\n",
    "        print('跳')\n",
    "    else:\n",
    "        \n",
    "        ## 筛选所有可交易股票\n",
    "        tradable_stocks = []\n",
    "        for stock in all_ordered_stocks:\n",
    "            if not df_daily_close_after_data_cleaning.loc[date_index,stock]== df_daily_open_after_data_cleaning.loc[date_index,stock]:\n",
    "                if not np.isnan(df_daily_close_after_data_cleaning.loc[date_index,stock]):\n",
    "#                     print('close')\n",
    "                    tradable_stocks.append(stock)\n",
    "\n",
    "        \n",
    "        ##\n",
    "        \n",
    "        \n",
    "        for i in range(10):\n",
    "            start = i*math.ceil(len(tradable_stocks)/10)\n",
    "            end = min((i+1)*math.ceil(len(tradable_stocks)/10),len(tradable_stocks)-1)\n",
    "            classed_stocks = tradable_stocks[start:end]\n",
    "            mean_value = (np.nanmean(df_daily_close_minus_open_return_after_data_cleaning.loc[date_index,classed_stocks]))*(1)-0.001\n",
    "#             print(mean_value)\n",
    "            classification_return_index[i].append(mean_value)\n",
    "        \n",
    "        \n",
    "         ##删除涨停股    \n",
    "        stock_list = []\n",
    "\n",
    "        for stock in max_factor_stock_list:\n",
    "            if not df_daily_close_after_data_cleaning.loc[date_index,stock]== df_daily_open_after_data_cleaning.loc[date_index,stock]:\n",
    "                stock_list.append(stock)\n",
    "#                 print(date_index,stock,'涨停,无法买入')\n",
    "        \n",
    "        max_factor_stock_list = stock_list\n",
    "        max_factor_stock_list = max_factor_stock_list[:10]\n",
    "\n",
    "        ####删除涨停股票\n",
    "        ##纯多\n",
    "#         strategy_daily_yeild_list.append((df_daily_close_minus_open_return_after_data_cleaning.loc[date_index,max_factor_stock_list].mean())*(1-0.001))\n",
    "        ##多空\n",
    "#         strategy_daily_yeild_list.append((classification_return_index[0][-1]-classification_return_index[9][-1])/2)\n",
    "# ## 纯空\n",
    "        strategy_daily_yeild_list.append((-classification_return_index[9][-1]))\n",
    "#         print(classification_return_index[0][-1])\n",
    "#         print(classification_return_index[9][-1])\n",
    "#         print(date_index)\n",
    "#         print(df_daily_close_minus_open_return_after_data_cleaning.loc[date_index,max_factor_stock_list])\n",
    "#         print(max_factor_stock_list)\n",
    "    max_factor_stock_list = list(value.sort_values(ascending = False)[:20].index)\n",
    "    \n",
    "    all_ordered_stocks = list(value.sort_values(ascending = False).index)\n",
    "    \n",
    "   \n",
    "        \n",
    "    \n",
    "#     strategy_daily_yeild_list.append((df_daily_return_after_data_cleaning.loc[date_index,max_factor_stock_list].mean())*(1-0.1))\n",
    "    "
   ]
  },
  {
   "cell_type": "code",
   "execution_count": 485,
   "metadata": {},
   "outputs": [],
   "source": [
    "cum_strategy = np.cumprod([i+1 for i in strategy_daily_yeild_list])\n",
    "cum_strategy = [i-1 for i in cum_strategy]"
   ]
  },
  {
   "cell_type": "code",
   "execution_count": 436,
   "metadata": {},
   "outputs": [],
   "source": [
    "cum_strategy1 = np.cumprod([i+1 for i in classification_return_1])\n",
    "cum_strategy1 = [i-1 for i in cum_strategy1]\n",
    "cum_strategy2 = np.cumprod([i+1 for i in classification_return_2])\n",
    "cum_strategy2 = [i-1 for i in cum_strategy2]\n",
    "cum_strategy3 = np.cumprod([i+1 for i in classification_return_3])\n",
    "cum_strategy3 = [i-1 for i in cum_strategy3]\n",
    "cum_strategy4 = np.cumprod([i+1 for i in classification_return_4])\n",
    "cum_strategy4 = [i-1 for i in cum_strategy4]\n",
    "cum_strategy5 = np.cumprod([i+1 for i in classification_return_5])\n",
    "cum_strategy5 = [i-1 for i in cum_strategy5]\n",
    "cum_strategy6 = np.cumprod([i+1 for i in classification_return_6])\n",
    "cum_strategy6 = [i-1 for i in cum_strategy6]\n",
    "cum_strategy7 = np.cumprod([i+1 for i in classification_return_7])\n",
    "cum_strategy7 = [i-1 for i in cum_strategy7]\n",
    "cum_strategy8 = np.cumprod([i+1 for i in classification_return_8])\n",
    "cum_strategy8 = [i-1 for i in cum_strategy8]\n",
    "cum_strategy9 = np.cumprod([i+1 for i in classification_return_9])\n",
    "cum_strategy9 = [i-1 for i in cum_strategy9]\n",
    "cum_strategy10 = np.cumprod([i+1 for i in classification_return_10])\n",
    "cum_strategy10= [i-1 for i in cum_strategy10]"
   ]
  },
  {
   "cell_type": "code",
   "execution_count": 437,
   "metadata": {},
   "outputs": [
    {
     "data": {
      "text/plain": [
       "-0.11652861138338122"
      ]
     },
     "execution_count": 437,
     "metadata": {},
     "output_type": "execute_result"
    }
   ],
   "source": [
    "cum_strategy5[-1]"
   ]
  },
  {
   "cell_type": "code",
   "execution_count": 438,
   "metadata": {},
   "outputs": [
    {
     "data": {
      "image/png": "[encoded data removed]",
      "text/plain": [
       "<Figure size 432x288 with 1 Axes>"
      ]
     },
     "metadata": {
      "needs_background": "light"
     },
     "output_type": "display_data"
    }
   ],
   "source": [
    "\n",
    "men_means= (20, 35, 30, 35, 27,20, 35, 30, 35, 27)\n",
    "\n",
    " \n",
    "ind = np.arange(len(men_means))  # the x locations for the groups\n",
    "width = 0.35  # the width of the bars\n",
    " \n",
    "fig, ax = plt.subplots()\n",
    "rects1 = ax.bar(ind - width/2, [cum_strategy1[-1],cum_strategy2[-1],cum_strategy3[-1],cum_strategy4[-1],cum_strategy5[-1],cum_strategy6[-1],cum_strategy7[-1],cum_strategy8[-1],cum_strategy9[-1],cum_strategy10[-1]], width, color='SkyBlue', label='Men')"
   ]
  },
  {
   "cell_type": "code",
   "execution_count": 419,
   "metadata": {},
   "outputs": [
    {
     "data": {
      "text/plain": [
       "[0.0007400736334056016,\n",
       " 0.027074810843519984,\n",
       " 0.02704168787927757,\n",
       " 0.02868296708784591,\n",
       " 0.018871536657946095,\n",
       " 0.012856792159650684,\n",
       " 0.0034929903654696676,\n",
       " 0.006940556751223175,\n",
       " 0.015477041707217308,\n",
       " 0.007525216817274748,\n",
       " -0.005756057016981816,\n",
       " 0.018241119270985203,\n",
       " 0.02385971342516726,\n",
       " -0.0029875993528952465,\n",
       " 0.02383656632177055,\n",
       " 0.014714431945884548,\n",
       " 0.009895280772367565,\n",
       " -0.0035144662228411045,\n",
       " 0.0016541158895083887,\n",
       " -0.008341263630392741,\n",
       " 0.009857557454831616,\n",
       " 0.015404892562935516,\n",
       " 0.025435954841577898,\n",
       " 0.03018723975323327,\n",
       " 0.010972090598910684,\n",
       " 0.015278307192184969,\n",
       " 0.027831178199943404,\n",
       " 0.01466329034719293,\n",
       " 0.026825839575964124,\n",
       " 0.0061691040224761805,\n",
       " 0.013914672561912762,\n",
       " 0.05030239375778101,\n",
       " 0.02714458887761387,\n",
       " 0.04303872614938582,\n",
       " 0.011708799013976045,\n",
       " 0.0021609516572025983,\n",
       " 0.020828461778198592,\n",
       " 0.02599973241390706,\n",
       " 0.03997628968305941,\n",
       " 0.04890758331723487,\n",
       " 0.05826757383207928,\n",
       " 0.02721121557626971,\n",
       " 0.030205680576688796,\n",
       " 0.041448176415734124,\n",
       " 0.0006336724490811627,\n",
       " 0.013600142469845566,\n",
       " 0.032889372603824324,\n",
       " 0.012771995555025274,\n",
       " 0.0027570661462769258,\n",
       " 0.014107718699110726,\n",
       " -0.0014301199988178916,\n",
       " 0.00941211840915689,\n",
       " -0.00628288980696471,\n",
       " 0.010867299332413257,\n",
       " 0.033455394773906647,\n",
       " 0.020230496118805074]"
      ]
     },
     "execution_count": 419,
     "metadata": {},
     "output_type": "execute_result"
    }
   ],
   "source": [
    "strategy_daily_yeild_list"
   ]
  },
  {
   "cell_type": "code",
   "execution_count": 486,
   "metadata": {},
   "outputs": [
    {
     "data": {
      "text/plain": [
       "<matplotlib.legend.Legend at 0x214a0560278>"
      ]
     },
     "execution_count": 486,
     "metadata": {},
     "output_type": "execute_result"
    },
    {
     "data": {
      "image/png": "[encoded data removed]",
      "text/plain": [
       "<Figure size 1440x720 with 1 Axes>"
      ]
     },
     "metadata": {
      "needs_background": "light"
     },
     "output_type": "display_data"
    }
   ],
   "source": [
    "import matplotlib\n",
    "import numpy as np\n",
    "import matplotlib.pyplot as plt\n",
    "plt.rcParams['font.sans-serif'] = ['SimHei'] \n",
    "plt.rcParams['axes.unicode_minus'] = False \n",
    "fig, ax = plt.subplots(figsize=(20, 10))\n",
    "line1 = ax.plot(dates,cum_strategy,'r',label = '累计日内收益效果图')\n",
    "\n",
    "ax.legend()\n",
    "\n"
   ]
  },
  {
   "cell_type": "code",
   "execution_count": null,
   "metadata": {},
   "outputs": [],
   "source": []
  }
 ],
 "metadata": {
  "kernelspec": {
   "display_name": "Python 3",
   "language": "python",
   "name": "python3"
  },
  "language_info": {
   "codemirror_mode": {
    "name": "ipython",
    "version": 3
   },
   "file_extension": ".py",
   "mimetype": "text/x-python",
   "name": "python",
   "nbconvert_exporter": "python",
   "pygments_lexer": "ipython3",
   "version": "3.7.6"
  },
  "toc": {
   "base_numbering": 1,
   "nav_menu": {},
   "number_sections": true,
   "sideBar": true,
   "skip_h1_title": false,
   "title_cell": "Table of Contents",
   "title_sidebar": "Contents",
   "toc_cell": false,
   "toc_position": {},
   "toc_section_display": true,
   "toc_window_display": false
  }
 },
 "nbformat": 4,
 "nbformat_minor": 4
}
